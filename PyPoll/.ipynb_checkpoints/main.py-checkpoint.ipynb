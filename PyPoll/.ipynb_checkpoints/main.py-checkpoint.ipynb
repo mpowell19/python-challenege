{
 "cells": [
  {
   "cell_type": "code",
   "execution_count": 24,
   "metadata": {},
   "outputs": [
    {
     "name": "stdout",
     "output_type": "stream",
     "text": [
      "Election Results\n",
      "-----------------\n",
      "Total Votes: 3521001\n",
      "-----------------\n",
      "[('Khan', 63.00001050837531, 2218231), ('Correy', 19.999994319797125, 704200), ('Li', 13.999996023857989, 492940), (\"O'Tooley\", 2.999999147969569, 105630)]\n"
     ]
    }
   ],
   "source": [
    "import csv\n",
    "pollCSV=\"../../../Resources/election_data.csv\"\n",
    "\n",
    "pollData= [] \n",
    "print(\"Election Results\")\n",
    "print(\"-----------------\")\n",
    "\n",
    "def ElectionResults(pollData):  \n",
    "    # The total number of votes cast\n",
    "    totalVotes= len(pollData)\n",
    "    print(f\"Total Votes: {totalVotes}\") \n",
    "    print(\"-----------------\")\n",
    "\n",
    "    # A complete list of candidates who received votes\n",
    "    CandidatesList= []\n",
    "    PercentVotesList=[]\n",
    "    TotalCandidateVotesList=[]\n",
    "    for name in pollData:\n",
    "        if name[2] not in CandidatesList:\n",
    "            CandidatesList.append(name[2])\n",
    "    \n",
    "            #start with 1 vote\n",
    "            # The total number of votes each candidate won\n",
    "            TotalCandidateVotesList.append(1)\n",
    "\n",
    "            # The percentage of votes each candidate won\n",
    "            PercentVotes= 1/totalVotes\n",
    "            PercentVotesList.append(PercentVotes)\n",
    "        else:\n",
    "            #get the index and update the vote count and percentage\n",
    "            candidateIndex= CandidatesList.index(name[2])\n",
    "            \n",
    "            #add 1 vote\n",
    "            votes= TotalCandidateVotesList[candidateIndex]+1\n",
    "            TotalCandidateVotesList[candidateIndex]=votes\n",
    "            \n",
    "            #update the percentage\n",
    "            PercentVotes= (votes/totalVotes) *100\n",
    "            PercentVotesList[candidateIndex]= PercentVotes\n",
    "\n",
    "    Final= zip(CandidatesList,PercentVotesList,TotalCandidateVotesList)        \n",
    "    print(list(Final))\n",
    "\n",
    "    \n",
    "    # The winner of the election based on popular vote.\n",
    "\n",
    "    \n",
    "#Read as CSV file    \n",
    "with open(pollCSV, newline=\"\") as csvfile:\n",
    "    csvreader = csv.reader(csvfile, delimiter=\",\")\n",
    "    csv_header = next(csvreader)\n",
    "    #budgetData.append(csv_header)\n",
    "    for row in csvreader:\n",
    "        pollData.append(row)\n",
    "    ElectionResults(pollData)   \n",
    "        "
   ]
  },
  {
   "cell_type": "code",
   "execution_count": null,
   "metadata": {},
   "outputs": [],
   "source": []
  },
  {
   "cell_type": "code",
   "execution_count": null,
   "metadata": {},
   "outputs": [],
   "source": []
  }
 ],
 "metadata": {
  "kernelspec": {
   "display_name": "Python 3",
   "language": "python",
   "name": "python3"
  },
  "language_info": {
   "codemirror_mode": {
    "name": "ipython",
    "version": 3
   },
   "file_extension": ".py",
   "mimetype": "text/x-python",
   "name": "python",
   "nbconvert_exporter": "python",
   "pygments_lexer": "ipython3",
   "version": "3.7.1"
  }
 },
 "nbformat": 4,
 "nbformat_minor": 2
}
