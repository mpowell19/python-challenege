{
 "cells": [
  {
   "cell_type": "code",
   "execution_count": 45,
   "metadata": {},
   "outputs": [
    {
     "name": "stdout",
     "output_type": "stream",
     "text": [
      "Election Results\n",
      "-----------------\n",
      "Total Votes: 3521001\n",
      "-----------------\n",
      "-----------------\n",
      "Khan: 63.0(2218231)\n",
      "Correy: 20.0(704200)\n",
      "Li: 14.0(492940)\n",
      "O'Tooley: 3.0(105630)\n",
      "-----------------\n"
     ]
    }
   ],
   "source": [
    "import csv\n",
    "pollCSV=\"../../../Resources/election_data.csv\"\n",
    "\n",
    "pollData= [] \n",
    "print(\"Election Results\")\n",
    "print(\"-----------------\")\n",
    "\n",
    "def ElectionResults(pollData):  \n",
    "    # The total number of votes cast\n",
    "    totalVotes= len(pollData)\n",
    "    print(f\"Total Votes: {totalVotes}\") \n",
    "    print(\"-----------------\")\n",
    "\n",
    "    # A complete list of candidates who received votes\n",
    "    CandidatesList= []\n",
    "    PercentVotesList=[]\n",
    "    TotalCandidateVotesList=[]\n",
    "    for name in pollData:\n",
    "        if name[2] not in CandidatesList:\n",
    "            CandidatesList.append(name[2])\n",
    "    \n",
    "            #start with 1 vote\n",
    "            # The total number of votes each candidate won\n",
    "            TotalCandidateVotesList.append(1)\n",
    "\n",
    "            # The percentage of votes each candidate won\n",
    "            PercentVotes= 1/totalVotes\n",
    "            PercentVotesList.append(PercentVotes)\n",
    "        else:\n",
    "            #get the index and update the vote count and percentage\n",
    "            candidateIndex= CandidatesList.index(name[2])\n",
    "            \n",
    "            #add 1 vote\n",
    "            votes= TotalCandidateVotesList[candidateIndex]+1\n",
    "            TotalCandidateVotesList[candidateIndex]=votes\n",
    "            \n",
    "            #update the percentage\n",
    "            PercentVotes= (votes/totalVotes) *100\n",
    "            PercentVotesList[candidateIndex]= PercentVotes\n",
    "\n",
    "    Final= zip(CandidatesList,PercentVotesList,TotalCandidateVotesList)        \n",
    "    #print(list(Final))\n",
    "\n",
    "    \n",
    "    # The winner of the election based on popular vote.\n",
    "    print(\"-----------------\")\n",
    "    for item in Final:\n",
    "        print(item[0]+': '+str(round(item[1],2))+'('+str(item[2])+')')\n",
    "    print(\"-----------------\")\n",
    "    \n",
    "#Read as CSV file    \n",
    "with open(pollCSV, newline=\"\") as csvfile:\n",
    "    csvreader = csv.reader(csvfile, delimiter=\",\")\n",
    "    csv_header = next(csvreader)\n",
    "    #budgetData.append(csv_header)\n",
    "    for row in csvreader:\n",
    "        pollData.append(row)\n",
    "    ElectionResults(pollData)   \n",
    "        "
   ]
  },
  {
   "cell_type": "code",
   "execution_count": null,
   "metadata": {},
   "outputs": [],
   "source": []
  },
  {
   "cell_type": "code",
   "execution_count": null,
   "metadata": {},
   "outputs": [],
   "source": []
  }
 ],
 "metadata": {
  "kernelspec": {
   "display_name": "Python 3",
   "language": "python",
   "name": "python3"
  },
  "language_info": {
   "codemirror_mode": {
    "name": "ipython",
    "version": 3
   },
   "file_extension": ".py",
   "mimetype": "text/x-python",
   "name": "python",
   "nbconvert_exporter": "python",
   "pygments_lexer": "ipython3",
   "version": "3.7.1"
  }
 },
 "nbformat": 4,
 "nbformat_minor": 2
}
