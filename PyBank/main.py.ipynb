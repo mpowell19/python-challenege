{
 "cells": [
  {
   "cell_type": "code",
   "execution_count": 14,
   "metadata": {},
   "outputs": [
    {
     "ename": "SyntaxError",
     "evalue": "invalid syntax (<ipython-input-14-f1b696e4aa24>, line 49)",
     "output_type": "error",
     "traceback": [
      "\u001b[0;36m  File \u001b[0;32m\"<ipython-input-14-f1b696e4aa24>\"\u001b[0;36m, line \u001b[0;32m49\u001b[0m\n\u001b[0;31m    print(\"Financial Analysis\") as txtfile\u001b[0m\n\u001b[0m                                 ^\u001b[0m\n\u001b[0;31mSyntaxError\u001b[0m\u001b[0;31m:\u001b[0m invalid syntax\n"
     ]
    }
   ],
   "source": [
    "import os\n",
    "import csv\n",
    "csv_path= \"../../../budget_data.csv\"\n",
    "\n",
    "myData=[]\n",
    "       \n",
    "with open(csv_path, newline=\"\") as csvfile:\n",
    "    csvreader = csv.reader(csvfile, delimiter=\",\")\n",
    "    print(csvreader)\n",
    "    csv_header = next(csvreader)\n",
    "    myData.append(csv_header)\n",
    "    for row in csvreader:\n",
    "        myData.append(row)       \n",
    "        \n",
    "        \n",
    "MonthCount=0\n",
    "NetTotal=0\n",
    "for row in budget[1:]:\n",
    "    MonthCount +=1\n",
    "    NetTotal +=int(row[1])\n",
    "\n",
    "#The total number of months included in the dataset    \n",
    "MonthTotal=[int(j) for i, j in myData[1:]]\n",
    "\n",
    "#The net total amount of \"Profit/Losses\" over the entire period\n",
    "MonthChange= [x-y for x, y in zip(MonthTotal[1:],MonthTotal)]\n",
    "\n",
    "#The average of the changes in \"Profit/Losses\" over the entire period\n",
    "MonthChangeAverage= sum(MonthChange)/len(MonthChange)\n",
    "\n",
    "#The greatest increase in profits (date and amount) over the entire period\n",
    "#The greatest decrease in losses (date and amount) over the entire period\n",
    "MonthList= [i for i, j in myData[1:]]\n",
    "MonthChangeList = [i for i in zip(MonthList[1:], MonthChange)]\n",
    "\n",
    "for row in MonthChangeList:\n",
    "    if row[1]== max(MonthChange):\n",
    "        MaxMonth= row [0]\n",
    "        MaxAmount= row [1]\n",
    "    if row[1] == min(MonthChange):\n",
    "        MinMonth= row[0]\n",
    "        MinAmount= row[1]\n",
    "        \n",
    "print(\"Financial Analysis\")\n",
    "print(\"-------------\")\n",
    "print(f\"Total Months:{len(myData)-1}\")\n",
    "      \n",
    "      \n",
    "print(\"Financial Analysis\") as txtfile\n",
    "      "
   ]
  },
  {
   "cell_type": "code",
   "execution_count": null,
   "metadata": {},
   "outputs": [],
   "source": []
  }
 ],
 "metadata": {
  "kernelspec": {
   "display_name": "Python 3",
   "language": "python",
   "name": "python3"
  },
  "language_info": {
   "codemirror_mode": {
    "name": "ipython",
    "version": 3
   },
   "file_extension": ".py",
   "mimetype": "text/x-python",
   "name": "python",
   "nbconvert_exporter": "python",
   "pygments_lexer": "ipython3",
   "version": "3.7.1"
  }
 },
 "nbformat": 4,
 "nbformat_minor": 2
}
