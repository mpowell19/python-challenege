{
 "cells": [
  {
   "cell_type": "code",
   "execution_count": 4,
   "metadata": {},
   "outputs": [
    {
     "name": "stdout",
     "output_type": "stream",
     "text": [
      "Financial Analysis\n",
      "-------------------\n",
      "Total Months: 86\n",
      "Total: $38382578\n",
      "Average: $-2315.1176470588234\n",
      "Greatest Increase in Profit: Feb-2012 $ 1926159\n",
      "Greatest Decrease in Profit: Sep-2013 $ -2196167\n"
     ]
    }
   ],
   "source": [
    "import csv\n",
    "BudgetCSV= \"../../../budget_data.csv\"\n",
    "\n",
    "budgetData= [] \n",
    "\n",
    "print(\"Financial Analysis\")\n",
    "print(\"-------------------\")\n",
    "        \n",
    "#Define the function\n",
    "def getStats(budgetData):\n",
    "    #The total number of months included in the dataset\n",
    "    totalMonths= len(budgetData)\n",
    "    print(f\"Total Months: {totalMonths}\") \n",
    "   \n",
    "    #The net total amount of \"Profit/Losses\" over the entire period\n",
    "    totalPL= 0\n",
    "    for column in budgetData:\n",
    "        totalPL += int(column[1])\n",
    "    print(f\"Total: ${totalPL}\")\n",
    "\n",
    "    #Change in Profit/Loss over the period\n",
    "                         \n",
    "    change=0\n",
    "    templist=[]\n",
    "    profitChange=[]\n",
    "    for x in budgetData:\n",
    "        templist.append(x[1])\n",
    "    \n",
    "    i=0\n",
    "    for value in templist[:-1]:\n",
    "        m=(int(templist[i+1])-int(templist[i]))\n",
    "        i += 1\n",
    "        profitChange.append(m)\n",
    "    \n",
    "    #The average of the changes in \"Profit/Losses\" over the entire period\n",
    "    averagePL= sum(profitChange) / len(profitChange)\n",
    "    print(f\"Average: ${averagePL}\")\n",
    "    \n",
    "    \n",
    "    #The greatest increase in profits (date and amount) over the entire period\n",
    "    maxChange= max(profitChange)\n",
    "    #The greatest decrease in losses (date and amount) over the entire period\n",
    "    minChange=min(profitChange)\n",
    "    \n",
    "    #min/max statements\n",
    "    Indexone=profitChange.index(maxChange)\n",
    "    maxIndex=Indexone+1\n",
    "    Indextwo=profitChange.index(minChange)\n",
    "    minIndex=Indextwo+1\n",
    "   \n",
    "    #print max/min\n",
    "    print(f\"Greatest Increase in Profit: {budgetData[maxIndex][0]} $ {maxChange}\")\n",
    "    print(f\"Greatest Decrease in Profit: {budgetData[minIndex][0]} $ {minChange}\")\n",
    "\n",
    "\n",
    "#Read as CSV file\n",
    "with open(BudgetCSV, newline=\"\") as csvfile:\n",
    "    csvreader = csv.reader(csvfile, delimiter=\",\")\n",
    "    csv_header = next(csvreader)\n",
    "    #budgetData.append(csv_header)\n",
    "    for row in csvreader:\n",
    "        budgetData.append(row)\n",
    "    getStats(budgetData)"
   ]
  },
  {
   "cell_type": "code",
   "execution_count": null,
   "metadata": {},
   "outputs": [],
   "source": []
  }
 ],
 "metadata": {
  "kernelspec": {
   "display_name": "Python 3",
   "language": "python",
   "name": "python3"
  },
  "language_info": {
   "codemirror_mode": {
    "name": "ipython",
    "version": 3
   },
   "file_extension": ".py",
   "mimetype": "text/x-python",
   "name": "python",
   "nbconvert_exporter": "python",
   "pygments_lexer": "ipython3",
   "version": "3.7.1"
  }
 },
 "nbformat": 4,
 "nbformat_minor": 2
}
